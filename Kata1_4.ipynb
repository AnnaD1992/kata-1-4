{
 "cells": [
  {
   "cell_type": "markdown",
   "metadata": {},
   "source": [
    "# Kata Challenges - #1 - #4 Fundamentals"
   ]
  },
  {
   "cell_type": "markdown",
   "metadata": {},
   "source": [
    "Katas a taken from CodeWars (https://www.codewars.com/)\n",
    "<p>\n",
    "Date: 20.09.2021 - 24.09.2021\n"
   ]
  },
  {
   "cell_type": "markdown",
   "metadata": {},
   "source": [
    "## Kata #1 "
   ]
  },
  {
   "cell_type": "markdown",
   "metadata": {},
   "source": [
    "This is a spin off of my first kata. You are given a list of character sequences as a comma separated string. Write a function which returns another string containing all the character sequences except the first and the last ones, separated by spaces. If the input string is empty, or the removal of the first and last items would cause the string to be empty, return a null value.\n",
    "\n",
    "- test.describe(\"Basic Tests\")\n",
    "- test.assert_equals(array(''), None)\n",
    "- test.assert_equals(array('1'), None)\n",
    "- test.assert_equals(array('1, 3'), None)\n",
    "- test.assert_equals(array('1,2,3'), '2')\n",
    "- test.assert_equals(array('1,2,3,4'), '2 3')\n",
    "\n"
   ]
  },
  {
   "cell_type": "markdown",
   "metadata": {},
   "source": [
    "### Kata 1 - Solution"
   ]
  },
  {
   "cell_type": "code",
   "execution_count": 13,
   "metadata": {},
   "outputs": [],
   "source": [
    "def array(string):\n",
    "    splitted=string.split(',') ##first step\n",
    "    removed=splitted[1:-1] ## second step\n",
    "    return ' '.join(removed) if len(removed) > 0 else None ## condition\n"
   ]
  },
  {
   "cell_type": "code",
   "execution_count": 9,
   "metadata": {},
   "outputs": [],
   "source": [
    " array('') # None"
   ]
  },
  {
   "cell_type": "code",
   "execution_count": 10,
   "metadata": {},
   "outputs": [],
   "source": [
    " array('1') # None"
   ]
  },
  {
   "cell_type": "code",
   "execution_count": 11,
   "metadata": {},
   "outputs": [],
   "source": [
    " array('1,2') # None"
   ]
  },
  {
   "cell_type": "code",
   "execution_count": 12,
   "metadata": {},
   "outputs": [
    {
     "data": {
      "text/plain": [
       "'2'"
      ]
     },
     "execution_count": 12,
     "metadata": {},
     "output_type": "execute_result"
    }
   ],
   "source": [
    " array('1,2,3') # None"
   ]
  },
  {
   "cell_type": "code",
   "execution_count": 14,
   "metadata": {},
   "outputs": [
    {
     "data": {
      "text/plain": [
       "'2 3'"
      ]
     },
     "execution_count": 14,
     "metadata": {},
     "output_type": "execute_result"
    }
   ],
   "source": [
    "array('1,2,3,4')"
   ]
  },
  {
   "cell_type": "markdown",
   "metadata": {},
   "source": [
    "## Lessons Learned:\n",
    "- You can’t just cut the string and remove the comma, if you do that with a string it will replace every space\n",
    "- Learned how to join array into the string with the join function\n",
    "- Also how to return if there is none (either return result if result else None, but I like to be more specific: return result if len(result) > 0 else None) That’s more understandable for me about the condiiton\n"
   ]
  },
  {
   "cell_type": "markdown",
   "metadata": {},
   "source": [
    "## Kata #2"
   ]
  },
  {
   "cell_type": "markdown",
   "metadata": {},
   "source": [
    "It's a fight between the two legends: Conor McGregor vs George Saint Pierre in Madison Square Garden. Only one fighter will remain standing, and after the fight in an interview with Joe Rogan the winner will make his legendary statement. It's your job to return the right statement depending on the winner!\n",
    "If the winner is George Saint Pierre he will obviously say:\n",
    "\"I am not impressed by your performance.\"\n",
    "If the winner is Conor McGregor he will most undoubtedly say:\n",
    "\"I'd like to take this chance to apologize.. To absolutely NOBODY!\"\n"
   ]
  },
  {
   "cell_type": "markdown",
   "metadata": {},
   "source": [
    "\n",
    "- test.assert_equals(quote('george saint pierre'), \"I am not impressed by your performance.\")\n",
    "- test.assert_equals(quote('conor mcgregor'), \"I'd like to take this chance to apologize.. To absolutely NOBODY!\")\n",
    "\n",
    "- test.assert_equals(quote('George Saint Pierre'), \"I am not impressed by your performance.\")\n",
    "- test.assert_equals(quote('Conor McGregor'), \"I'd like to take this chance to apologize.. To absolutely NOBODY!\")\n"
   ]
  },
  {
   "cell_type": "markdown",
   "metadata": {},
   "source": [
    "### Kata # 2 Answer"
   ]
  },
  {
   "cell_type": "code",
   "execution_count": 17,
   "metadata": {},
   "outputs": [
    {
     "data": {
      "text/plain": [
       "'I am not impressed by your performance.'"
      ]
     },
     "execution_count": 17,
     "metadata": {},
     "output_type": "execute_result"
    }
   ],
   "source": [
    "def quote(fighter):\n",
    "    if fighter == \"george saint pierre\" or  fighter==\"George Saint Pierre\" :\n",
    "        return \"I am not impressed by your performance.\"\n",
    "    elif fighter == \"conor mcgregor\" or fighter==\"Conor McGregor\":\n",
    "        return \"I'd like to take this chance to apologize.. To absolutely NOBODY!\"\n",
    "# My solution\n",
    "quote(\"George Saint Pierre\")"
   ]
  },
  {
   "cell_type": "code",
   "execution_count": 18,
   "metadata": {},
   "outputs": [
    {
     "data": {
      "text/plain": [
       "\"I'd like to take this chance to apologize.. To absolutely NOBODY!\""
      ]
     },
     "execution_count": 18,
     "metadata": {},
     "output_type": "execute_result"
    }
   ],
   "source": [
    "quote(\"conor mcgregor\")"
   ]
  },
  {
   "cell_type": "code",
   "execution_count": 19,
   "metadata": {},
   "outputs": [
    {
     "data": {
      "text/plain": [
       "\"I'd like to take this chance to apologize.. To absolutely NOBODY!\""
      ]
     },
     "execution_count": 19,
     "metadata": {},
     "output_type": "execute_result"
    }
   ],
   "source": [
    "# The solution I like more \n",
    "statements = {\n",
    "    'george saint pierre': \"I am not impressed by your performance.\",\n",
    "    'conor mcgregor': \"I'd like to take this chance to apologize.. To absolutely NOBODY!\"\n",
    "}\n",
    "\n",
    "def quote(fighter):\n",
    "    return statements[fighter.lower()]\n",
    "#Returned statements and lowering the response for fighters. If it was with upper case, they just lower the case"
   ]
  },
  {
   "cell_type": "markdown",
   "metadata": {},
   "source": [
    "### Lessons Learned:"
   ]
  },
  {
   "cell_type": "markdown",
   "metadata": {},
   "source": [
    "\n",
    " - If statement can have multiple values and we can use AND and OR logical operators, but we need to specify separately, or just use a dictionary before working on the function\n",
    " \n",
    " - If we want to have else if conditions, we need to use elif\n"
   ]
  },
  {
   "cell_type": "markdown",
   "metadata": {},
   "source": [
    "# Kata #3 "
   ]
  },
  {
   "cell_type": "markdown",
   "metadata": {},
   "source": [
    "Create a class Ball. Ball objects should accept one argument for \"ball type\" when instantiated.\n",
    "If no arguments are given, ball objects should instantiate with a \"ball type\" of \"regular.\"\n",
    "\n",
    "- ball1 = Ball()\n",
    "- ball2 = Ball(\"super\")\n",
    "- ball1.ball_type  #=> \"regular\"\n",
    "- ball2.ball_type  #=> \"super\"\n"
   ]
  },
  {
   "cell_type": "code",
   "execution_count": 21,
   "metadata": {},
   "outputs": [],
   "source": [
    "class Ball(object):\n",
    "    def __init__(self, ball_type=None):\n",
    "        if ball_type is None:\n",
    "            self.ball_type='regular'\n",
    "        else:\n",
    "            self.ball_type=ball_type\n"
   ]
  },
  {
   "cell_type": "markdown",
   "metadata": {},
   "source": [
    "## Lessons Learned\n",
    "\n",
    "The first argument of every class method, including init, is always a reference to the current instance of the class. By convention, this argument is always named self. In the init method, self refers to the newly created object; in other class methods, it refers to the instance whose method was called.\n",
    "Python doesn't force you on using \"self\". You can give it any name you want. But remember the first argument in a method definition is a reference to the object. Python adds the self argument to the list for you; you do not need to include it when you call the methods. if you didn't provide self in init method then you will get an error\n",
    "<p>\n",
    "TypeError: __init___() takes no arguments (1 given)\n",
    "<p>\n",
    "What does the init method do? Why is it necessary? (etc.)\n",
    "init is short for initialization. It is a constructor which gets called when you make an instance of the class and it is not necessary. But usually it our practice to write init method for setting default state of the object. If you are not willing to set any state of the object initially then you don't need to write this method. Source ( https://yasoob.me/2013/08/07/the-self-variable-in-python-explained/)\n",
    "    \n"
   ]
  },
  {
   "cell_type": "markdown",
   "metadata": {},
   "source": [
    "## Kata #4"
   ]
  },
  {
   "cell_type": "markdown",
   "metadata": {},
   "source": [
    "Remove all exclamation marks from the end of sentence.\n",
    "\n",
    "- remove(\"Hi!\") === \"Hi\"\n",
    "- remove(\"Hi!!!\") === \"Hi\"\n",
    "- remove(\"!Hi\") === \"!Hi\"\n",
    "- remove(\"!Hi!\") === \"!Hi\"\n",
    "- remove(\"Hi! Hi!\") === \"Hi! Hi\"\n",
    "- remove(\"Hi\") === \"Hi\"\n"
   ]
  },
  {
   "cell_type": "code",
   "execution_count": 29,
   "metadata": {},
   "outputs": [],
   "source": [
    "import re\n",
    "def remove(s):\n",
    "    return re.sub(r'!+$', '',s)\n",
    "#Find \"!\" at the End ($) with \"+\" for more occurances\n"
   ]
  },
  {
   "cell_type": "code",
   "execution_count": 27,
   "metadata": {},
   "outputs": [
    {
     "data": {
      "text/plain": [
       "'Hi'"
      ]
     },
     "execution_count": 27,
     "metadata": {},
     "output_type": "execute_result"
    }
   ],
   "source": [
    "remove(\"Hi!!!\")"
   ]
  },
  {
   "cell_type": "code",
   "execution_count": 28,
   "metadata": {},
   "outputs": [
    {
     "data": {
      "text/plain": [
       "'!!!Hi'"
      ]
     },
     "execution_count": 28,
     "metadata": {},
     "output_type": "execute_result"
    }
   ],
   "source": [
    "remove('!!!Hi!!!!')"
   ]
  },
  {
   "cell_type": "code",
   "execution_count": 30,
   "metadata": {},
   "outputs": [],
   "source": [
    "import re\n",
    "def remove(s):\n",
    "    return s.rstrip(\"!\")\n"
   ]
  },
  {
   "cell_type": "markdown",
   "metadata": {},
   "source": [
    "## Lessons Learned"
   ]
  },
  {
   "cell_type": "markdown",
   "metadata": {},
   "source": [
    "\n",
    "- https://www.programiz.com/python-programming/regex\n",
    "- To use the regex expressions, you need to import the library\n",
    "- Sub -- > to replace (expression, the replacing value, and the string\n",
    "- Always have r’! ’, + - for more expressions, $ at the end of the string\n",
    "- Not a big fan of regex\n"
   ]
  },
  {
   "cell_type": "code",
   "execution_count": null,
   "metadata": {},
   "outputs": [],
   "source": []
  }
 ],
 "metadata": {
  "kernelspec": {
   "display_name": "Python 3",
   "language": "python",
   "name": "python3"
  },
  "language_info": {
   "codemirror_mode": {
    "name": "ipython",
    "version": 3
   },
   "file_extension": ".py",
   "mimetype": "text/x-python",
   "name": "python",
   "nbconvert_exporter": "python",
   "pygments_lexer": "ipython3",
   "version": "3.8.3"
  }
 },
 "nbformat": 4,
 "nbformat_minor": 4
}
