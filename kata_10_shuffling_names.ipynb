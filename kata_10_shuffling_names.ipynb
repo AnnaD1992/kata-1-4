{
 "cells": [
  {
   "cell_type": "markdown",
   "metadata": {},
   "source": [
    "# Kata Description"
   ]
  },
  {
   "cell_type": "markdown",
   "metadata": {},
   "source": [
    "Write a function that returns a string in which firstname is swapped with last name.\n",
    "\n",
    "name_shuffler('john McClane'); => \"McClane john\"\n",
    "Source: https://www.codewars.com/kata/559ac78160f0be07c200005a"
   ]
  },
  {
   "cell_type": "code",
   "execution_count": 30,
   "metadata": {},
   "outputs": [],
   "source": [
    "def name_shuffler(str_):\n",
    "    new_list=list(str_.split(\" \"))\n",
    "    new_string=new_list[1]+' '+ new_list[0]\n",
    "    return  new_string"
   ]
  },
  {
   "cell_type": "code",
   "execution_count": 32,
   "metadata": {},
   "outputs": [
    {
     "data": {
      "text/plain": [
       "'Snow John'"
      ]
     },
     "execution_count": 32,
     "metadata": {},
     "output_type": "execute_result"
    }
   ],
   "source": [
    "name_shuffler(\"John Snow\")"
   ]
  },
  {
   "cell_type": "markdown",
   "metadata": {},
   "source": [
    "# Refactoring "
   ]
  },
  {
   "cell_type": "code",
   "execution_count": 36,
   "metadata": {},
   "outputs": [],
   "source": [
    "def name_shuffler(str_):\n",
    "    new_list=list(str_.split(\" \"))\n",
    "    new_string=' '.join(new_list[::-1]) ## joining the string, using the slicing and reversing with a negative step\n",
    "    return  new_string"
   ]
  },
  {
   "cell_type": "code",
   "execution_count": 37,
   "metadata": {},
   "outputs": [
    {
     "data": {
      "text/plain": [
       "'Snow John'"
      ]
     },
     "execution_count": 37,
     "metadata": {},
     "output_type": "execute_result"
    }
   ],
   "source": [
    "name_shuffler(\"John Snow\")"
   ]
  },
  {
   "cell_type": "code",
   "execution_count": 44,
   "metadata": {},
   "outputs": [
    {
     "data": {
      "text/plain": [
       "'Snow John'"
      ]
     },
     "execution_count": 44,
     "metadata": {},
     "output_type": "execute_result"
    }
   ],
   "source": [
    "def name_shuffler(str_):\n",
    "    new_list=str_.split(\" \")\n",
    "    new_string=' '.join(new_list[::-1]) ## joining the string, using the slicing and reversing with a negative step\n",
    "    return  new_string\n",
    "name_shuffler(\"John Snow\")"
   ]
  },
  {
   "cell_type": "code",
   "execution_count": 47,
   "metadata": {},
   "outputs": [
    {
     "data": {
      "text/plain": [
       "'Snow John'"
      ]
     },
     "execution_count": 47,
     "metadata": {},
     "output_type": "execute_result"
    }
   ],
   "source": [
    "def name_shuffler(str_):\n",
    "    return \" \".join((str_.split(\" \"))[::-1])\n",
    "name_shuffler(\"John Snow\")"
   ]
  },
  {
   "cell_type": "code",
   "execution_count": 46,
   "metadata": {},
   "outputs": [
    {
     "data": {
      "text/plain": [
       "'Snow John'"
      ]
     },
     "execution_count": 46,
     "metadata": {},
     "output_type": "execute_result"
    }
   ],
   "source": [
    "name_shuffler(\"John Snow\")"
   ]
  },
  {
   "cell_type": "markdown",
   "metadata": {},
   "source": [
    "##  Lessons Learned:\n",
    "- one of the more effective ways is to do slicing and reversing with a negative step. Source: https://blog.finxter.com/python-join-list-in-reverse-order/#:~:text=The%20most%20efficient%20method%20to,%5B%3A%3A%2D1%5D%20.\n",
    "- Slicing order [start:stop:step] \n",
    "- A negative step size indicates that we are slicing from right to left: https://blog.finxter.com/introduction-to-slicing-in-python/\n"
   ]
  }
 ],
 "metadata": {
  "kernelspec": {
   "display_name": "Python 3",
   "language": "python",
   "name": "python3"
  },
  "language_info": {
   "codemirror_mode": {
    "name": "ipython",
    "version": 3
   },
   "file_extension": ".py",
   "mimetype": "text/x-python",
   "name": "python",
   "nbconvert_exporter": "python",
   "pygments_lexer": "ipython3",
   "version": "3.8.3"
  }
 },
 "nbformat": 4,
 "nbformat_minor": 4
}
