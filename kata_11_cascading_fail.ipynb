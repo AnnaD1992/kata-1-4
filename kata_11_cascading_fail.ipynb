{
 "cells": [
  {
   "cell_type": "markdown",
   "metadata": {},
   "source": [
    "# Kata Description\n",
    "Create a method each_cons that accepts a list and a number n, and returns cascading subsets of the list of size n, like so:\n",
    "\n",
    "each_cons([1,2,3,4], 2)\n",
    "  #=> [[1,2], [2,3], [3,4]]\n",
    "\n",
    "each_cons([1,2,3,4], 3)\n",
    "  #=> [[1,2,3],[2,3,4]]\n",
    "    \n",
    "Link to Kata: https://www.codewars.com/kata/545af3d185166a3dec001190"
   ]
  },
  {
   "cell_type": "code",
   "execution_count": 4,
   "metadata": {},
   "outputs": [],
   "source": [
    "def each_cons(lst, n):\n",
    "    return lst"
   ]
  },
  {
   "cell_type": "code",
   "execution_count": 5,
   "metadata": {},
   "outputs": [
    {
     "data": {
      "text/plain": [
       "[1, 2, 3, 4]"
      ]
     },
     "execution_count": 5,
     "metadata": {},
     "output_type": "execute_result"
    }
   ],
   "source": [
    "each_cons([1,2,3,4], 2)"
   ]
  },
  {
   "cell_type": "code",
   "execution_count": 16,
   "metadata": {},
   "outputs": [
    {
     "data": {
      "text/plain": [
       "[(1, 2), (1, 3), (1, 4), (2, 3), (2, 4), (3, 4)]"
      ]
     },
     "execution_count": 16,
     "metadata": {},
     "output_type": "execute_result"
    }
   ],
   "source": [
    "import itertools\n",
    "def each_cons(lst, n):\n",
    "    return list(itertools.combinations(lst,2))\n",
    "each_cons([1,2,3,4], 2)"
   ]
  },
  {
   "cell_type": "code",
   "execution_count": 8,
   "metadata": {},
   "outputs": [
    {
     "data": {
      "text/plain": [
       "[{1, 2}, {1, 3}, {1, 4}, {2, 3}, {2, 4}, {3, 4}]"
      ]
     },
     "execution_count": 8,
     "metadata": {},
     "output_type": "execute_result"
    }
   ],
   "source": [
    "from itertools import chain, combinations\n",
    "def each_cons(lst, n):\n",
    "    return list(map(set,itertools.combinations(lst,n)))\n",
    "each_cons([1,2,3,4], 2)\n"
   ]
  },
  {
   "cell_type": "code",
   "execution_count": 14,
   "metadata": {},
   "outputs": [
    {
     "data": {
      "text/plain": [
       "[{1, 2}, {1, 3}, {1, 4}, {2, 3}, {2, 4}, {3, 4}]"
      ]
     },
     "execution_count": 14,
     "metadata": {},
     "output_type": "execute_result"
    }
   ],
   "source": [
    "from itertools import chain, combinations\n",
    "def each_cons(lst, n):\n",
    "    return list(map(set,itertools.combinations(lst,n)))\n",
    "each_cons([1,2,3,4], 2)\n"
   ]
  },
  {
   "cell_type": "code",
   "execution_count": null,
   "metadata": {},
   "outputs": [],
   "source": [
    "from itertools import chain, combinations\n",
    "def each_cons(lst, n):\n",
    "    combinations=list(map(set,itertools.combinations(lst,n)))\n",
    "    \n",
    "    \n",
    "each_cons([1,2,3,4], 2)"
   ]
  },
  {
   "cell_type": "markdown",
   "metadata": {},
   "source": [
    "## Note: Failure:\n",
    "\n",
    "I can't solve this kata and I don't understand other solutions, I will come back to it later, as a treat, I just solved an easy Kata:\n",
    "   \n",
    "This kata is about multiplying a given number by eight if it is an even number and by nine otherwise.\n",
    "\n",
    "https://www.codewars.com/kata/583710ccaa6717322c000105/python\n"
   ]
  },
  {
   "cell_type": "code",
   "execution_count": 23,
   "metadata": {},
   "outputs": [],
   "source": [
    "def simple_multiplication(number) :\n",
    "    return (number * 8) if (number % 2) == 0 else (number*9)"
   ]
  },
  {
   "cell_type": "code",
   "execution_count": 24,
   "metadata": {},
   "outputs": [
    {
     "data": {
      "text/plain": [
       "81"
      ]
     },
     "execution_count": 24,
     "metadata": {},
     "output_type": "execute_result"
    }
   ],
   "source": [
    "simple_multiplication(9)"
   ]
  },
  {
   "cell_type": "code",
   "execution_count": 25,
   "metadata": {},
   "outputs": [
    {
     "data": {
      "text/plain": [
       "16"
      ]
     },
     "execution_count": 25,
     "metadata": {},
     "output_type": "execute_result"
    }
   ],
   "source": [
    "simple_multiplication(2)"
   ]
  },
  {
   "cell_type": "code",
   "execution_count": null,
   "metadata": {},
   "outputs": [],
   "source": []
  }
 ],
 "metadata": {
  "kernelspec": {
   "display_name": "Python 3",
   "language": "python",
   "name": "python3"
  },
  "language_info": {
   "codemirror_mode": {
    "name": "ipython",
    "version": 3
   },
   "file_extension": ".py",
   "mimetype": "text/x-python",
   "name": "python",
   "nbconvert_exporter": "python",
   "pygments_lexer": "ipython3",
   "version": "3.8.3"
  }
 },
 "nbformat": 4,
 "nbformat_minor": 4
}
