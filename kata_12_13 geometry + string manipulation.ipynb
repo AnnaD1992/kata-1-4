{
 "cells": [
  {
   "cell_type": "markdown",
   "metadata": {},
   "source": [
    "# Kata Description\n",
    "You're re-designing a blog and the blog's posts have the following format for showing the date and time a post was made:\n",
    "\n",
    "Weekday Month Day, time e.g., Friday May 2, 7pm\n",
    "\n",
    "You're running out of screen real estate, and on some pages you want to display a shorter format, Weekday Month Day that omits the time.\n",
    "\n",
    "Write a function, shortenToDate, that takes the Website date/time in its original string format, and returns the shortened format.\n",
    "\n",
    "Assume shortenToDate's input will always be a string, e.g. \"Friday May 2, 7pm\". Assume shortenToDate's output will be the shortened string, e.g., \"Friday May 2\".\n",
    "\n",
    "Link to Kata: https://www.codewars.com/kata/56b0ff16d4aa33e5bb00008e"
   ]
  },
  {
   "cell_type": "code",
   "execution_count": 19,
   "metadata": {},
   "outputs": [],
   "source": [
    "def shorten_to_date(long_date):\n",
    "    splitted=str.split(long_date, \",\")\n",
    "    return splitted[0]"
   ]
  },
  {
   "cell_type": "code",
   "execution_count": 20,
   "metadata": {},
   "outputs": [
    {
     "data": {
      "text/plain": [
       "'Monday February 2'"
      ]
     },
     "execution_count": 20,
     "metadata": {},
     "output_type": "execute_result"
    }
   ],
   "source": [
    "#(shorten_to_date(\"Monday February 2, 8pm\"), \"Monday February 2\")\n",
    "shorten_to_date(\"Monday February 2, 8pm\")"
   ]
  },
  {
   "cell_type": "markdown",
   "metadata": {},
   "source": [
    "# Refactoring"
   ]
  },
  {
   "cell_type": "code",
   "execution_count": 21,
   "metadata": {},
   "outputs": [],
   "source": [
    "def shorten_to_date(long_date):\n",
    "    return str.split(long_date, \",\")[0]"
   ]
  },
  {
   "cell_type": "markdown",
   "metadata": {},
   "source": [
    "## Kata Description\n",
    "This series of katas will introduce you to basics of doing geometry with computers.\n",
    "\n",
    "Point objects have x and y attributes (X and Y in C#) attributes.\n",
    "\n",
    "Write a function calculating distance between Point a and Point b.\n",
    "\n",
    "Tests round answers to 6 decimal places.\n",
    "Link: https://www.codewars.com/kata/58dced7b702b805b200000be/train/python\n"
   ]
  },
  {
   "cell_type": "code",
   "execution_count": 32,
   "metadata": {},
   "outputs": [],
   "source": [
    "import math\n",
    "def distance_between_points(a, b):\n",
    "    return math.sqrt((a.x-b.x)**2)+((a.y-b.y)**2)"
   ]
  },
  {
   "cell_type": "code",
   "execution_count": 33,
   "metadata": {},
   "outputs": [],
   "source": [
    "import math\n",
    "def distance_between_points(a, b):\n",
    "    return math.hypot(a[0]-b[0], a[1]-b[1])"
   ]
  },
  {
   "cell_type": "code",
   "execution_count": 34,
   "metadata": {},
   "outputs": [],
   "source": [
    "import math\n",
    "def distance_between_points(a, b):\n",
    "    return math.hypot(a.x-b.x, a.y-b.y)"
   ]
  },
  {
   "cell_type": "code",
   "execution_count": null,
   "metadata": {},
   "outputs": [],
   "source": []
  }
 ],
 "metadata": {
  "kernelspec": {
   "display_name": "Python 3",
   "language": "python",
   "name": "python3"
  },
  "language_info": {
   "codemirror_mode": {
    "name": "ipython",
    "version": 3
   },
   "file_extension": ".py",
   "mimetype": "text/x-python",
   "name": "python",
   "nbconvert_exporter": "python",
   "pygments_lexer": "ipython3",
   "version": "3.7.10"
  }
 },
 "nbformat": 4,
 "nbformat_minor": 4
}
