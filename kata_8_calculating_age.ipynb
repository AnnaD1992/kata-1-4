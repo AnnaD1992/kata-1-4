{
 "cells": [
  {
   "cell_type": "markdown",
   "metadata": {},
   "source": [
    "# Kata # 8 "
   ]
  },
  {
   "cell_type": "markdown",
   "metadata": {},
   "source": [
    "## Description"
   ]
  },
  {
   "cell_type": "markdown",
   "metadata": {},
   "source": [
    "Philip's just turned four and he wants to know how old he will be in various years in the future such as 2090 or 3044. His parents can't keep up calculating this so they've begged you to help them out by writing a programme that can answer Philip's endless questions.\n",
    "\n",
    "Your task is to write a function that takes two parameters: the year of birth and the year to count years in relation to. As Philip is getting more curious every day he may soon want to know how many years it was until he would be born, so your function needs to work with both dates in the future and in the past.\n",
    "\n",
    "Provide output in this format: For dates in the future: \"You are ... year(s) old.\" For dates in the past: \"You will be born in ... year(s).\" If the year of birth equals the year requested return: \"You were born this very year!\"\n",
    "\n",
    "\"...\" are to be replaced by the number, followed and proceeded by a single space. Mind that you need to account for both \"year\" and \"years\", depending on the result.\n",
    "\n",
    "Good Luck!\n",
    "Source: https://www.codewars.com/kata/5761a717780f8950ce001473"
   ]
  },
  {
   "cell_type": "code",
   "execution_count": 1,
   "metadata": {},
   "outputs": [],
   "source": [
    "def calculate_age(year_of_birth, current_year):\n",
    "    if year_of_birth<current_year:\n",
    "        print(\"Yor are \"+ str(current_year-year_of_birth) + \" years old.\")"
   ]
  },
  {
   "cell_type": "code",
   "execution_count": 2,
   "metadata": {},
   "outputs": [
    {
     "name": "stdout",
     "output_type": "stream",
     "text": [
      "Yor are 4 years old.\n"
     ]
    }
   ],
   "source": [
    "calculate_age(2012, 2016)"
   ]
  },
  {
   "cell_type": "code",
   "execution_count": 3,
   "metadata": {},
   "outputs": [
    {
     "name": "stdout",
     "output_type": "stream",
     "text": [
      "Yor are 27 years old.\n"
     ]
    }
   ],
   "source": [
    "calculate_age(1989, 2016)"
   ]
  },
  {
   "cell_type": "code",
   "execution_count": 4,
   "metadata": {},
   "outputs": [
    {
     "name": "stdout",
     "output_type": "stream",
     "text": [
      "Yor are 90 years old.\n"
     ]
    }
   ],
   "source": [
    "calculate_age(2000, 2090)"
   ]
  },
  {
   "cell_type": "code",
   "execution_count": 5,
   "metadata": {},
   "outputs": [],
   "source": [
    "def calculate_age(year_of_birth, current_year):\n",
    "    if year_of_birth<current_year:\n",
    "        print(\"Yor are \"+ str(current_year-year_of_birth) + \" years old.\")\n",
    "    elif year_of_birth > current_year:\n",
    "        print(\"Yor will be born in \"+ str(abs(current_year-year_of_birth)) + \" years old.\")\n",
    " "
   ]
  },
  {
   "cell_type": "code",
   "execution_count": 6,
   "metadata": {},
   "outputs": [
    {
     "name": "stdout",
     "output_type": "stream",
     "text": [
      "Yor will be born in 10 years old.\n"
     ]
    }
   ],
   "source": [
    "calculate_age(2000, 1990)"
   ]
  },
  {
   "cell_type": "code",
   "execution_count": 7,
   "metadata": {},
   "outputs": [],
   "source": [
    "def calculate_age(year_of_birth, current_year):\n",
    "    if year_of_birth<current_year:\n",
    "        print(\"Yor are \"+ str(current_year-year_of_birth) + \" years old.\")\n",
    "    elif year_of_birth > current_year:\n",
    "        print(\"Yor will be born in \"+ str(abs(current_year-year_of_birth)) + \" years old.\")\n",
    "    else:\n",
    "         print(\"You were born this very year!\")"
   ]
  },
  {
   "cell_type": "code",
   "execution_count": 8,
   "metadata": {},
   "outputs": [
    {
     "name": "stdout",
     "output_type": "stream",
     "text": [
      "You were born this very year!\n"
     ]
    }
   ],
   "source": [
    "calculate_age(2000, 2000)"
   ]
  },
  {
   "cell_type": "code",
   "execution_count": 9,
   "metadata": {},
   "outputs": [
    {
     "name": "stdout",
     "output_type": "stream",
     "text": [
      "Yor are 2000 years old.\n"
     ]
    }
   ],
   "source": [
    "calculate_age(900, 2900)"
   ]
  },
  {
   "cell_type": "code",
   "execution_count": 10,
   "metadata": {},
   "outputs": [
    {
     "name": "stdout",
     "output_type": "stream",
     "text": [
      "Yor will be born in 20 years old.\n"
     ]
    }
   ],
   "source": [
    "calculate_age(2010, 1990)"
   ]
  },
  {
   "cell_type": "code",
   "execution_count": 11,
   "metadata": {},
   "outputs": [
    {
     "name": "stdout",
     "output_type": "stream",
     "text": [
      "Yor will be born in 510 years old.\n"
     ]
    }
   ],
   "source": [
    "calculate_age(2010, 1500)"
   ]
  },
  {
   "cell_type": "code",
   "execution_count": 12,
   "metadata": {},
   "outputs": [
    {
     "name": "stdout",
     "output_type": "stream",
     "text": [
      "Yor are 1 years old.\n"
     ]
    }
   ],
   "source": [
    "calculate_age(2011, 2012) ## that needs a fix"
   ]
  },
  {
   "cell_type": "code",
   "execution_count": 13,
   "metadata": {},
   "outputs": [],
   "source": [
    "def calculate_age(year_of_birth, current_year):\n",
    "    if (year_of_birth<current_year) and (current_year - year_of_birth)>1 :\n",
    "        print(\"Yor are \"+ str(current_year-year_of_birth) + \" years old.\")\n",
    "    elif  (year_of_birth<current_year) and (current_year - year_of_birth)==1 :\n",
    "        print(\"Yor are \"+ str(current_year-year_of_birth) + \" year old.\")\n",
    "    elif year_of_birth > current_year:\n",
    "        print(\"Yor will be born in \"+ str(abs(current_year-year_of_birth)) + \" years old.\")\n",
    "    else:\n",
    "         print(\"You were born this very year!\")"
   ]
  },
  {
   "cell_type": "code",
   "execution_count": 14,
   "metadata": {},
   "outputs": [
    {
     "name": "stdout",
     "output_type": "stream",
     "text": [
      "Yor are 1 year old.\n"
     ]
    }
   ],
   "source": [
    "calculate_age(2011, 2012) ## fixed"
   ]
  },
  {
   "cell_type": "code",
   "execution_count": 15,
   "metadata": {},
   "outputs": [
    {
     "name": "stdout",
     "output_type": "stream",
     "text": [
      "Yor will be born in 1 years old.\n"
     ]
    }
   ],
   "source": [
    "calculate_age(2000, 1999) ## need a fix"
   ]
  },
  {
   "cell_type": "code",
   "execution_count": 19,
   "metadata": {},
   "outputs": [],
   "source": [
    "def calculate_age(year_of_birth, current_year):\n",
    "    if (year_of_birth<current_year) and (current_year - year_of_birth)>1 :\n",
    "        print(\"You are \"+ str(current_year-year_of_birth) + \" years old.\")\n",
    "        \n",
    "    elif  (year_of_birth<current_year) and (current_year - year_of_birth)==1 :\n",
    "        print(\"You are \"+ str(current_year-year_of_birth) + \" year old.\")\n",
    "        \n",
    "    elif (year_of_birth > current_year) and (current_year - year_of_birth)>1:\n",
    "        print(\"You will be born in \"+ str(abs(current_year-year_of_birth)) + \" years old.\")\n",
    "        \n",
    "    elif (year_of_birth > current_year) and (current_year - year_of_birth)==1:\n",
    "        print(\"You will be born in \"+ str(abs(current_year-year_of_birth)) + \" year old.\")\n",
    "        \n",
    "    elif (year_of_birth - current_year)==0:\n",
    "        print(\"You were born this very year!\")"
   ]
  },
  {
   "cell_type": "code",
   "execution_count": 20,
   "metadata": {},
   "outputs": [],
   "source": [
    "calculate_age(2000, 1999)"
   ]
  },
  {
   "cell_type": "code",
   "execution_count": 25,
   "metadata": {},
   "outputs": [],
   "source": [
    "def calculate_age(year_of_birth, current_year):\n",
    "    if (year_of_birth<current_year) and (current_year - year_of_birth)>1 :\n",
    "        print(\"You are \"+ str(current_year-year_of_birth) + \" years old.\")\n",
    "        \n",
    "    elif  (year_of_birth<current_year) and (current_year - year_of_birth)==1 :\n",
    "        print(\"You are \"+ str(current_year-year_of_birth) + \" year old.\")\n",
    "        \n",
    "    elif (year_of_birth > current_year) and (year_of_birth - current_year)>1:\n",
    "        print(\"You will be born in \"+ str(abs(current_year-year_of_birth)) + \" years old.\")\n",
    "        \n",
    "    elif (year_of_birth > current_year) and (year_of_birth - current_year)==1:\n",
    "        print(\"You will be born in \"+ str(abs(current_year-year_of_birth)) + \" year old.\")\n",
    "        \n",
    "    elif (year_of_birth - current_year)==0:\n",
    "        print(\"You were born this very year!\")"
   ]
  },
  {
   "cell_type": "code",
   "execution_count": 26,
   "metadata": {},
   "outputs": [
    {
     "name": "stdout",
     "output_type": "stream",
     "text": [
      "You will be born in 1 year old.\n"
     ]
    }
   ],
   "source": [
    "calculate_age(2000, 1999)"
   ]
  },
  {
   "cell_type": "code",
   "execution_count": 27,
   "metadata": {},
   "outputs": [
    {
     "name": "stdout",
     "output_type": "stream",
     "text": [
      "You were born this very year!\n"
     ]
    }
   ],
   "source": [
    "calculate_age(2000, 2000)"
   ]
  },
  {
   "cell_type": "markdown",
   "metadata": {},
   "source": [
    "## Fixing bugs"
   ]
  },
  {
   "cell_type": "code",
   "execution_count": 29,
   "metadata": {},
   "outputs": [],
   "source": [
    "def calculate_age(year_of_birth, current_year):\n",
    "    if (year_of_birth<current_year) and (current_year - year_of_birth)>1 :\n",
    "        print(\"You are \"+ str(current_year-year_of_birth) + \" years old.\")\n",
    "        \n",
    "    elif  (year_of_birth<current_year) and (current_year - year_of_birth)==1 :\n",
    "        print(\"You are \"+ str(current_year-year_of_birth) + \" year old.\")\n",
    "        \n",
    "    elif (year_of_birth > current_year) and (year_of_birth - current_year)>1:\n",
    "        print(\"You will be born in \"+ str(abs(current_year-year_of_birth)) + \" years.\")\n",
    "        \n",
    "    elif (year_of_birth > current_year) and (year_of_birth - current_year)==1:\n",
    "        print(\"You will be born in \"+ str(abs(current_year-year_of_birth)) + \" year.\")\n",
    "        \n",
    "    elif (year_of_birth - current_year)==0:\n",
    "        print(\"You were born this very year!\")"
   ]
  },
  {
   "cell_type": "markdown",
   "metadata": {},
   "source": [
    "# Refactoring"
   ]
  },
  {
   "cell_type": "code",
   "execution_count": 55,
   "metadata": {},
   "outputs": [],
   "source": [
    "def calculate_age(year_of_birth, current_year):\n",
    "    age=current_year-year_of_birth\n",
    "    if age == 0:\n",
    "        return \"You were born this very year\"\n",
    "    if age>0:\n",
    "        return \"You are {} year{} old\".format(age, 's' if age > 1 else \"\")\n",
    "    else:\n",
    "        return \"You will be born in {} year{}.\".format(abs(age), 's' if abs(age) >1 else \"\")"
   ]
  },
  {
   "cell_type": "markdown",
   "metadata": {},
   "source": [
    "# Testing"
   ]
  },
  {
   "cell_type": "markdown",
   "metadata": {},
   "source": [
    "- test.describe(\"Basic tests\")\n",
    "- test.assert_equals(calculate_age(2012, 2016),\"You are 4 years old.\")\n",
    "- test.assert_equals(calculate_age(1989, 2016),\"You are 27 years old.\")\n",
    "- test.assert_equals(calculate_age(2000, 2090),\"You are 90 years old.\")\n",
    "- test.assert_equals(calculate_age(2000, 1990),\"You will be born in 10 years.\")\n",
    "- test.assert_equals(calculate_age(2000, 2000),\"You were born this very year!\")\n",
    "- test.assert_equals(calculate_age(900, 2900),\"You are 2000 years old.\")\n",
    "- test.assert_equals(calculate_age(2010, 1990),\"You will be born in 20 years.\")\n",
    "- test.assert_equals(calculate_age(2010, 1500),\"You will be born in 510 years.\")\n",
    "- test.assert_equals(calculate_age(2011, 2012),\"You are 1 year old.\")\n",
    "- test.assert_equals(calculate_age(2000, 1999),\"You will be born in 1 year.\")"
   ]
  },
  {
   "cell_type": "code",
   "execution_count": 56,
   "metadata": {},
   "outputs": [
    {
     "data": {
      "text/plain": [
       "'You are 4 years old'"
      ]
     },
     "execution_count": 56,
     "metadata": {},
     "output_type": "execute_result"
    }
   ],
   "source": [
    "#- test.assert_equals(calculate_age(2012, 2016),\"You are 4 years old.\")\n",
    "calculate_age(2012, 2016)"
   ]
  },
  {
   "cell_type": "code",
   "execution_count": 57,
   "metadata": {},
   "outputs": [
    {
     "data": {
      "text/plain": [
       "'You are 27 years old'"
      ]
     },
     "execution_count": 57,
     "metadata": {},
     "output_type": "execute_result"
    }
   ],
   "source": [
    "#- test.assert_equals(calculate_age(1989, 2016),\"You are 27 years old.\")\n",
    "\n",
    "calculate_age(1989, 2016)"
   ]
  },
  {
   "cell_type": "code",
   "execution_count": 58,
   "metadata": {},
   "outputs": [
    {
     "data": {
      "text/plain": [
       "'You are 90 years old'"
      ]
     },
     "execution_count": 58,
     "metadata": {},
     "output_type": "execute_result"
    }
   ],
   "source": [
    "#- test.assert_equals(calculate_age(2000, 2090),\"You are 90 years old.\")\n",
    "\n",
    "calculate_age(2000, 2090)"
   ]
  },
  {
   "cell_type": "code",
   "execution_count": 59,
   "metadata": {},
   "outputs": [
    {
     "data": {
      "text/plain": [
       "'You will be born in 10 years.'"
      ]
     },
     "execution_count": 59,
     "metadata": {},
     "output_type": "execute_result"
    }
   ],
   "source": [
    "#- test.assert_equals(calculate_age(2000, 1990),\"You will be born in 10 years.\")\n",
    "calculate_age(2000, 1990)"
   ]
  },
  {
   "cell_type": "code",
   "execution_count": 60,
   "metadata": {},
   "outputs": [
    {
     "data": {
      "text/plain": [
       "'You were born this very year'"
      ]
     },
     "execution_count": 60,
     "metadata": {},
     "output_type": "execute_result"
    }
   ],
   "source": [
    "#- test.assert_equals(calculate_age(2000, 2000),\"You were born this very year!\")\n",
    "calculate_age(2000, 2000)"
   ]
  },
  {
   "cell_type": "code",
   "execution_count": 61,
   "metadata": {},
   "outputs": [
    {
     "data": {
      "text/plain": [
       "'You are 2000 years old'"
      ]
     },
     "execution_count": 61,
     "metadata": {},
     "output_type": "execute_result"
    }
   ],
   "source": [
    "#- test.assert_equals(calculate_age(900, 2900),\"You are 2000 years old.\")\n",
    "calculate_age(900, 2900)"
   ]
  },
  {
   "cell_type": "code",
   "execution_count": 62,
   "metadata": {},
   "outputs": [
    {
     "data": {
      "text/plain": [
       "'You will be born in 20 years.'"
      ]
     },
     "execution_count": 62,
     "metadata": {},
     "output_type": "execute_result"
    }
   ],
   "source": [
    "#- test.assert_equals(calculate_age(2010, 1990),\"You will be born in 20 years.\")\n",
    "calculate_age(2010, 1990)"
   ]
  },
  {
   "cell_type": "code",
   "execution_count": 63,
   "metadata": {},
   "outputs": [
    {
     "data": {
      "text/plain": [
       "'You will be born in 510 years.'"
      ]
     },
     "execution_count": 63,
     "metadata": {},
     "output_type": "execute_result"
    }
   ],
   "source": [
    "#- test.assert_equals(calculate_age(2010, 1500),\"You will be born in 510 years.\")\n",
    "calculate_age(2010, 1500)"
   ]
  },
  {
   "cell_type": "code",
   "execution_count": 64,
   "metadata": {},
   "outputs": [
    {
     "data": {
      "text/plain": [
       "'You are 1 year old'"
      ]
     },
     "execution_count": 64,
     "metadata": {},
     "output_type": "execute_result"
    }
   ],
   "source": [
    "#- test.assert_equals(calculate_age(2011, 2012),\"You are 1 year old.\")\n",
    "calculate_age(2011, 2012)"
   ]
  },
  {
   "cell_type": "code",
   "execution_count": 65,
   "metadata": {},
   "outputs": [
    {
     "data": {
      "text/plain": [
       "'You will be born in 1 year.'"
      ]
     },
     "execution_count": 65,
     "metadata": {},
     "output_type": "execute_result"
    }
   ],
   "source": [
    "#- test.assert_equals(calculate_age(2000, 1999),\"You will be born in 1 year.\")\n",
    "calculate_age(2000, 1999)"
   ]
  },
  {
   "cell_type": "markdown",
   "metadata": {},
   "source": [
    "## Lessons Learned "
   ]
  },
  {
   "cell_type": "markdown",
   "metadata": {},
   "source": [
    "- This time I tried to do a TDD, developing a code slowly, meeting expectations of the test\n",
    "- I used a very old approach if else, but then I did the refactoring and made it more readable and smaller\n",
    "- learned about the formatting the string : .format() |The format() method formats the specified value(s) and insert them inside the string's placeholder. Source:  https://www.w3schools.com/python/ref_string_format.asp\n",
    "- to have a if else in one line \"\n"
   ]
  }
 ],
 "metadata": {
  "kernelspec": {
   "display_name": "Python 3",
   "language": "python",
   "name": "python3"
  },
  "language_info": {
   "codemirror_mode": {
    "name": "ipython",
    "version": 3
   },
   "file_extension": ".py",
   "mimetype": "text/x-python",
   "name": "python",
   "nbconvert_exporter": "python",
   "pygments_lexer": "ipython3",
   "version": "3.8.3"
  }
 },
 "nbformat": 4,
 "nbformat_minor": 4
}
